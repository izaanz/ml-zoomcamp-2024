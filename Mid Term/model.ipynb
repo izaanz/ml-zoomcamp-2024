{
 "cells": [
  {
   "cell_type": "code",
   "execution_count": 1,
   "id": "5f6a1675-fbc2-4bfc-bd52-de2c6efc4016",
   "metadata": {},
   "outputs": [],
   "source": [
    "import pandas as pd\n",
    "import numpy as np\n",
    "import matplotlib.pyplot as plt\n",
    "\n",
    "from sklearn.model_selection import train_test_split\n",
    "from sklearn.model_selection import KFold\n",
    "\n",
    "\n",
    "from sklearn.metrics import precision_score, recall_score\n",
    "from sklearn.metrics import accuracy_score, roc_curve, roc_auc_score\n",
    "from sklearn.feature_extraction import DictVectorizer\n",
    "from sklearn.linear_model import LogisticRegression"
   ]
  },
  {
   "cell_type": "code",
   "execution_count": 2,
   "id": "0daf9c25-ef3a-4c54-a3f1-2c2428a92916",
   "metadata": {},
   "outputs": [],
   "source": [
    "df = pd.read_csv('student-data.csv')"
   ]
  },
  {
   "cell_type": "code",
   "execution_count": 3,
   "id": "9da5850a-fbea-4d79-8e30-6e3c935616ee",
   "metadata": {},
   "outputs": [
    {
     "data": {
      "text/html": [
       "<div>\n",
       "<style scoped>\n",
       "    .dataframe tbody tr th:only-of-type {\n",
       "        vertical-align: middle;\n",
       "    }\n",
       "\n",
       "    .dataframe tbody tr th {\n",
       "        vertical-align: top;\n",
       "    }\n",
       "\n",
       "    .dataframe thead th {\n",
       "        text-align: right;\n",
       "    }\n",
       "</style>\n",
       "<table border=\"1\" class=\"dataframe\">\n",
       "  <thead>\n",
       "    <tr style=\"text-align: right;\">\n",
       "      <th></th>\n",
       "      <th>0</th>\n",
       "      <th>1</th>\n",
       "      <th>2</th>\n",
       "      <th>3</th>\n",
       "      <th>4</th>\n",
       "    </tr>\n",
       "  </thead>\n",
       "  <tbody>\n",
       "    <tr>\n",
       "      <th>Gender</th>\n",
       "      <td>Male</td>\n",
       "      <td>Male</td>\n",
       "      <td>Male</td>\n",
       "      <td>Male</td>\n",
       "      <td>Female</td>\n",
       "    </tr>\n",
       "    <tr>\n",
       "      <th>Age</th>\n",
       "      <td>28</td>\n",
       "      <td>28</td>\n",
       "      <td>25</td>\n",
       "      <td>23</td>\n",
       "      <td>31</td>\n",
       "    </tr>\n",
       "    <tr>\n",
       "      <th>Academic Pressure</th>\n",
       "      <td>2.0</td>\n",
       "      <td>4.0</td>\n",
       "      <td>1.0</td>\n",
       "      <td>1.0</td>\n",
       "      <td>1.0</td>\n",
       "    </tr>\n",
       "    <tr>\n",
       "      <th>Study Satisfaction</th>\n",
       "      <td>4.0</td>\n",
       "      <td>5.0</td>\n",
       "      <td>3.0</td>\n",
       "      <td>4.0</td>\n",
       "      <td>5.0</td>\n",
       "    </tr>\n",
       "    <tr>\n",
       "      <th>Sleep Duration</th>\n",
       "      <td>7-8 hours</td>\n",
       "      <td>5-6 hours</td>\n",
       "      <td>5-6 hours</td>\n",
       "      <td>More than 8 hours</td>\n",
       "      <td>More than 8 hours</td>\n",
       "    </tr>\n",
       "    <tr>\n",
       "      <th>Dietary Habits</th>\n",
       "      <td>Moderate</td>\n",
       "      <td>Healthy</td>\n",
       "      <td>Unhealthy</td>\n",
       "      <td>Unhealthy</td>\n",
       "      <td>Healthy</td>\n",
       "    </tr>\n",
       "    <tr>\n",
       "      <th>Have you ever had suicidal thoughts ?</th>\n",
       "      <td>Yes</td>\n",
       "      <td>Yes</td>\n",
       "      <td>Yes</td>\n",
       "      <td>Yes</td>\n",
       "      <td>Yes</td>\n",
       "    </tr>\n",
       "    <tr>\n",
       "      <th>Study Hours</th>\n",
       "      <td>9</td>\n",
       "      <td>7</td>\n",
       "      <td>10</td>\n",
       "      <td>7</td>\n",
       "      <td>4</td>\n",
       "    </tr>\n",
       "    <tr>\n",
       "      <th>Financial Stress</th>\n",
       "      <td>2</td>\n",
       "      <td>1</td>\n",
       "      <td>4</td>\n",
       "      <td>2</td>\n",
       "      <td>2</td>\n",
       "    </tr>\n",
       "    <tr>\n",
       "      <th>Family History of Mental Illness</th>\n",
       "      <td>Yes</td>\n",
       "      <td>Yes</td>\n",
       "      <td>No</td>\n",
       "      <td>Yes</td>\n",
       "      <td>Yes</td>\n",
       "    </tr>\n",
       "    <tr>\n",
       "      <th>Depression</th>\n",
       "      <td>No</td>\n",
       "      <td>No</td>\n",
       "      <td>Yes</td>\n",
       "      <td>No</td>\n",
       "      <td>No</td>\n",
       "    </tr>\n",
       "  </tbody>\n",
       "</table>\n",
       "</div>"
      ],
      "text/plain": [
       "                                               0          1          2  \\\n",
       "Gender                                      Male       Male       Male   \n",
       "Age                                           28         28         25   \n",
       "Academic Pressure                            2.0        4.0        1.0   \n",
       "Study Satisfaction                           4.0        5.0        3.0   \n",
       "Sleep Duration                         7-8 hours  5-6 hours  5-6 hours   \n",
       "Dietary Habits                          Moderate    Healthy  Unhealthy   \n",
       "Have you ever had suicidal thoughts ?        Yes        Yes        Yes   \n",
       "Study Hours                                    9          7         10   \n",
       "Financial Stress                               2          1          4   \n",
       "Family History of Mental Illness             Yes        Yes         No   \n",
       "Depression                                    No         No        Yes   \n",
       "\n",
       "                                                       3                  4  \n",
       "Gender                                              Male             Female  \n",
       "Age                                                   23                 31  \n",
       "Academic Pressure                                    1.0                1.0  \n",
       "Study Satisfaction                                   4.0                5.0  \n",
       "Sleep Duration                         More than 8 hours  More than 8 hours  \n",
       "Dietary Habits                                 Unhealthy            Healthy  \n",
       "Have you ever had suicidal thoughts ?                Yes                Yes  \n",
       "Study Hours                                            7                  4  \n",
       "Financial Stress                                       2                  2  \n",
       "Family History of Mental Illness                     Yes                Yes  \n",
       "Depression                                            No                 No  "
      ]
     },
     "execution_count": 3,
     "metadata": {},
     "output_type": "execute_result"
    }
   ],
   "source": [
    "df.head().T"
   ]
  },
  {
   "cell_type": "markdown",
   "id": "12f0326f-07be-469b-a447-7f775e4e0dda",
   "metadata": {},
   "source": [
    "## Data Cleaning"
   ]
  },
  {
   "cell_type": "code",
   "execution_count": 4,
   "id": "9b2dd8bb-8761-4aa0-8ad1-501a61e35e9d",
   "metadata": {},
   "outputs": [
    {
     "data": {
      "text/plain": [
       "Gender                                   0\n",
       "Age                                      0\n",
       "Academic Pressure                        0\n",
       "Study Satisfaction                       0\n",
       "Sleep Duration                           0\n",
       "Dietary Habits                           0\n",
       "Have you ever had suicidal thoughts ?    0\n",
       "Study Hours                              0\n",
       "Financial Stress                         0\n",
       "Family History of Mental Illness         0\n",
       "Depression                               0\n",
       "dtype: int64"
      ]
     },
     "execution_count": 4,
     "metadata": {},
     "output_type": "execute_result"
    }
   ],
   "source": [
    "df.isnull().sum()"
   ]
  },
  {
   "cell_type": "code",
   "execution_count": 5,
   "id": "640db31b-ada7-4800-802d-7569dcd918dc",
   "metadata": {},
   "outputs": [
    {
     "data": {
      "text/plain": [
       "Gender                                    object\n",
       "Age                                        int64\n",
       "Academic Pressure                        float64\n",
       "Study Satisfaction                       float64\n",
       "Sleep Duration                            object\n",
       "Dietary Habits                            object\n",
       "Have you ever had suicidal thoughts ?     object\n",
       "Study Hours                                int64\n",
       "Financial Stress                           int64\n",
       "Family History of Mental Illness          object\n",
       "Depression                                object\n",
       "dtype: object"
      ]
     },
     "execution_count": 5,
     "metadata": {},
     "output_type": "execute_result"
    }
   ],
   "source": [
    "df.dtypes"
   ]
  },
  {
   "cell_type": "code",
   "execution_count": 6,
   "id": "87bd75d8-6d1b-444e-ad88-84cdc50a4b4a",
   "metadata": {},
   "outputs": [
    {
     "data": {
      "text/plain": [
       "Gender                                    object\n",
       "Age                                        int64\n",
       "Academic Pressure                        float64\n",
       "Study Satisfaction                       float64\n",
       "Sleep Duration                            object\n",
       "Dietary Habits                            object\n",
       "Have you ever had suicidal thoughts ?     object\n",
       "Study Hours                                int64\n",
       "Financial Stress                           int64\n",
       "Family History of Mental Illness          object\n",
       "Depression                                object\n",
       "dtype: object"
      ]
     },
     "execution_count": 6,
     "metadata": {},
     "output_type": "execute_result"
    }
   ],
   "source": [
    "df.dtypes"
   ]
  },
  {
   "cell_type": "code",
   "execution_count": 7,
   "id": "f3efb060-1653-483e-8bdd-71ce1ede0a5f",
   "metadata": {},
   "outputs": [],
   "source": [
    "df.columns = df.columns.str.lower().str.replace(' ', '_') # replacing spaces with underscores"
   ]
  },
  {
   "cell_type": "code",
   "execution_count": 8,
   "id": "6aca15b7-03ae-43ad-8399-92854ed663cd",
   "metadata": {},
   "outputs": [],
   "source": [
    "categorical_columns = list(df.dtypes[df.dtypes == 'object'].index)\n",
    "\n",
    "for c in categorical_columns:\n",
    "    df[c] = df[c].str.lower()\n",
    "\n",
    "\n",
    "df = df.rename(columns={'have_you_ever_had_suicidal_thoughts_?': 'suicidal_thoughts'}) # renaming the long heading to something short\n",
    "\n",
    "df.suicidal_thoughts = (df.suicidal_thoughts == 'yes').astype(int)\n",
    "df.family_history_of_mental_illness = (df.family_history_of_mental_illness == 'yes').astype(int)\n",
    "df.depression = (df.depression == 'yes').astype(int)"
   ]
  },
  {
   "cell_type": "code",
   "execution_count": 9,
   "id": "2a3026d2-500d-45ad-a4c9-9871890a220e",
   "metadata": {},
   "outputs": [
    {
     "data": {
      "text/html": [
       "<div>\n",
       "<style scoped>\n",
       "    .dataframe tbody tr th:only-of-type {\n",
       "        vertical-align: middle;\n",
       "    }\n",
       "\n",
       "    .dataframe tbody tr th {\n",
       "        vertical-align: top;\n",
       "    }\n",
       "\n",
       "    .dataframe thead th {\n",
       "        text-align: right;\n",
       "    }\n",
       "</style>\n",
       "<table border=\"1\" class=\"dataframe\">\n",
       "  <thead>\n",
       "    <tr style=\"text-align: right;\">\n",
       "      <th></th>\n",
       "      <th>0</th>\n",
       "      <th>1</th>\n",
       "      <th>2</th>\n",
       "      <th>3</th>\n",
       "      <th>4</th>\n",
       "    </tr>\n",
       "  </thead>\n",
       "  <tbody>\n",
       "    <tr>\n",
       "      <th>gender</th>\n",
       "      <td>male</td>\n",
       "      <td>male</td>\n",
       "      <td>male</td>\n",
       "      <td>male</td>\n",
       "      <td>female</td>\n",
       "    </tr>\n",
       "    <tr>\n",
       "      <th>age</th>\n",
       "      <td>28</td>\n",
       "      <td>28</td>\n",
       "      <td>25</td>\n",
       "      <td>23</td>\n",
       "      <td>31</td>\n",
       "    </tr>\n",
       "    <tr>\n",
       "      <th>academic_pressure</th>\n",
       "      <td>2.0</td>\n",
       "      <td>4.0</td>\n",
       "      <td>1.0</td>\n",
       "      <td>1.0</td>\n",
       "      <td>1.0</td>\n",
       "    </tr>\n",
       "    <tr>\n",
       "      <th>study_satisfaction</th>\n",
       "      <td>4.0</td>\n",
       "      <td>5.0</td>\n",
       "      <td>3.0</td>\n",
       "      <td>4.0</td>\n",
       "      <td>5.0</td>\n",
       "    </tr>\n",
       "    <tr>\n",
       "      <th>sleep_duration</th>\n",
       "      <td>7-8 hours</td>\n",
       "      <td>5-6 hours</td>\n",
       "      <td>5-6 hours</td>\n",
       "      <td>more than 8 hours</td>\n",
       "      <td>more than 8 hours</td>\n",
       "    </tr>\n",
       "    <tr>\n",
       "      <th>dietary_habits</th>\n",
       "      <td>moderate</td>\n",
       "      <td>healthy</td>\n",
       "      <td>unhealthy</td>\n",
       "      <td>unhealthy</td>\n",
       "      <td>healthy</td>\n",
       "    </tr>\n",
       "    <tr>\n",
       "      <th>suicidal_thoughts</th>\n",
       "      <td>1</td>\n",
       "      <td>1</td>\n",
       "      <td>1</td>\n",
       "      <td>1</td>\n",
       "      <td>1</td>\n",
       "    </tr>\n",
       "    <tr>\n",
       "      <th>study_hours</th>\n",
       "      <td>9</td>\n",
       "      <td>7</td>\n",
       "      <td>10</td>\n",
       "      <td>7</td>\n",
       "      <td>4</td>\n",
       "    </tr>\n",
       "    <tr>\n",
       "      <th>financial_stress</th>\n",
       "      <td>2</td>\n",
       "      <td>1</td>\n",
       "      <td>4</td>\n",
       "      <td>2</td>\n",
       "      <td>2</td>\n",
       "    </tr>\n",
       "    <tr>\n",
       "      <th>family_history_of_mental_illness</th>\n",
       "      <td>1</td>\n",
       "      <td>1</td>\n",
       "      <td>0</td>\n",
       "      <td>1</td>\n",
       "      <td>1</td>\n",
       "    </tr>\n",
       "    <tr>\n",
       "      <th>depression</th>\n",
       "      <td>0</td>\n",
       "      <td>0</td>\n",
       "      <td>1</td>\n",
       "      <td>0</td>\n",
       "      <td>0</td>\n",
       "    </tr>\n",
       "  </tbody>\n",
       "</table>\n",
       "</div>"
      ],
      "text/plain": [
       "                                          0          1          2  \\\n",
       "gender                                 male       male       male   \n",
       "age                                      28         28         25   \n",
       "academic_pressure                       2.0        4.0        1.0   \n",
       "study_satisfaction                      4.0        5.0        3.0   \n",
       "sleep_duration                    7-8 hours  5-6 hours  5-6 hours   \n",
       "dietary_habits                     moderate    healthy  unhealthy   \n",
       "suicidal_thoughts                         1          1          1   \n",
       "study_hours                               9          7         10   \n",
       "financial_stress                          2          1          4   \n",
       "family_history_of_mental_illness          1          1          0   \n",
       "depression                                0          0          1   \n",
       "\n",
       "                                                  3                  4  \n",
       "gender                                         male             female  \n",
       "age                                              23                 31  \n",
       "academic_pressure                               1.0                1.0  \n",
       "study_satisfaction                              4.0                5.0  \n",
       "sleep_duration                    more than 8 hours  more than 8 hours  \n",
       "dietary_habits                            unhealthy            healthy  \n",
       "suicidal_thoughts                                 1                  1  \n",
       "study_hours                                       7                  4  \n",
       "financial_stress                                  2                  2  \n",
       "family_history_of_mental_illness                  1                  1  \n",
       "depression                                        0                  0  "
      ]
     },
     "execution_count": 9,
     "metadata": {},
     "output_type": "execute_result"
    }
   ],
   "source": [
    "df.head().T"
   ]
  },
  {
   "cell_type": "code",
   "execution_count": 10,
   "id": "bafb9b6e-4307-4133-9876-b1aa3d27ef72",
   "metadata": {},
   "outputs": [
    {
     "data": {
      "text/plain": [
       "array(['7-8 hours', '5-6 hours', 'more than 8 hours', 'less than 5 hours'],\n",
       "      dtype=object)"
      ]
     },
     "execution_count": 10,
     "metadata": {},
     "output_type": "execute_result"
    }
   ],
   "source": [
    "df.sleep_duration.unique()"
   ]
  },
  {
   "cell_type": "markdown",
   "id": "5420869d-d290-41d2-ae61-dd10ce7f717f",
   "metadata": {},
   "source": [
    "## Splitting Data"
   ]
  },
  {
   "cell_type": "code",
   "execution_count": 11,
   "id": "05303897-1e30-4256-b4c1-d8d9e3e19fdc",
   "metadata": {},
   "outputs": [
    {
     "name": "stdout",
     "output_type": "stream",
     "text": [
      "Original dataset size: 502\n",
      "Full Train + Val size: 401\n",
      "Train size: 280\n",
      "Validation size: 121\n",
      "Test size: 101\n"
     ]
    }
   ],
   "source": [
    "df_full_train, df_test = train_test_split(df, test_size=0.2, stratify=df['depression'], random_state=42)\n",
    "df_train, df_val = train_test_split(df_full_train, test_size=0.3, stratify=df_full_train['depression'], random_state=42)\n",
    "\n",
    "y_train = df_train.depression.values\n",
    "y_val = df_val.depression.values\n",
    "y_test = df_test.depression.values\n",
    "\n",
    "print(f\"Original dataset size: {len(df)}\")\n",
    "print(f\"Full Train + Val size: {len(df_full_train)}\")\n",
    "print(f\"Train size: {len(df_train)}\")\n",
    "print(f\"Validation size: {len(df_val)}\")\n",
    "print(f\"Test size: {len(df_test)}\")\n"
   ]
  },
  {
   "cell_type": "markdown",
   "id": "cceed209-4a5d-4f7f-989a-eb07cb1cfb9c",
   "metadata": {},
   "source": [
    "To avoid data leakage, I have defined a columns array that excludes our target variable y (depression) when training"
   ]
  },
  {
   "cell_type": "code",
   "execution_count": 12,
   "id": "cfa8c3b4-79fc-456f-9e0f-74fd7f22a0f1",
   "metadata": {},
   "outputs": [
    {
     "data": {
      "text/plain": [
       "gender                               object\n",
       "age                                   int64\n",
       "academic_pressure                   float64\n",
       "study_satisfaction                  float64\n",
       "sleep_duration                       object\n",
       "dietary_habits                       object\n",
       "suicidal_thoughts                     int32\n",
       "study_hours                           int64\n",
       "financial_stress                      int64\n",
       "family_history_of_mental_illness      int32\n",
       "depression                            int32\n",
       "dtype: object"
      ]
     },
     "execution_count": 12,
     "metadata": {},
     "output_type": "execute_result"
    }
   ],
   "source": [
    "df.dtypes"
   ]
  },
  {
   "cell_type": "code",
   "execution_count": 13,
   "id": "256bbf12-741d-47b7-8ff8-ed8493367b2e",
   "metadata": {},
   "outputs": [],
   "source": [
    "numerical = ['age', 'academic_pressure', 'study_satisfaction', \n",
    "             'suicidal_thoughts', 'study_hours', 'financial_stress', \n",
    "             'family_history_of_mental_illness']\n",
    "\n",
    "categorical = ['gender', 'sleep_duration', 'dietary_habits']"
   ]
  },
  {
   "cell_type": "code",
   "execution_count": 14,
   "id": "97546e51-dde9-4dfa-998f-da7d8a874d1e",
   "metadata": {},
   "outputs": [
    {
     "data": {
      "text/plain": [
       "(401, 280, 121, 101)"
      ]
     },
     "execution_count": 14,
     "metadata": {},
     "output_type": "execute_result"
    }
   ],
   "source": [
    "len(df_full_train), len(df_train), len(df_val), len(df_test)"
   ]
  },
  {
   "cell_type": "markdown",
   "id": "ca5f9cd8-df7e-4e31-a032-54a5992ce825",
   "metadata": {},
   "source": [
    "## Validting the model"
   ]
  },
  {
   "cell_type": "code",
   "execution_count": 15,
   "id": "26c5f4a5-2ef6-4455-9f7c-cf51fc0d697b",
   "metadata": {},
   "outputs": [],
   "source": [
    "def train(df_train, y_train, C=1.0):\n",
    "    dicts = df_train[categorical + numerical].to_dict(orient='records')\n",
    "\n",
    "    dv = DictVectorizer(sparse=False)\n",
    "    X_train = dv.fit_transform(dicts)\n",
    "\n",
    "    model = LogisticRegression(C=C, max_iter=5000, solver='liblinear')\n",
    "    model.fit(X_train, y_train)\n",
    "    \n",
    "    return dv, model"
   ]
  },
  {
   "cell_type": "code",
   "execution_count": 16,
   "id": "efbaf24c-dc88-4ec7-a22a-fb094c47b857",
   "metadata": {},
   "outputs": [],
   "source": [
    "def predict(df, dv, model):\n",
    "    dicts = df[categorical + numerical].to_dict(orient='records')\n",
    "\n",
    "    X = dv.transform(dicts)\n",
    "    y_pred = model.predict_proba(X)[:, 1]\n",
    "\n",
    "    return y_pred"
   ]
  },
  {
   "cell_type": "code",
   "execution_count": 17,
   "id": "594487f7-6a0e-4978-a108-cc32aeed5b78",
   "metadata": {},
   "outputs": [],
   "source": [
    "dv, model = train(df_train, y_train)\n",
    "y_pred = predict(df_val, dv, model)"
   ]
  },
  {
   "cell_type": "code",
   "execution_count": 18,
   "id": "4730b687-5551-4703-b421-5b761f375b23",
   "metadata": {},
   "outputs": [
    {
     "data": {
      "text/plain": [
       "0.9504132231404959"
      ]
     },
     "execution_count": 18,
     "metadata": {},
     "output_type": "execute_result"
    }
   ],
   "source": [
    "depressed_score = (y_pred >= 0.50)\n",
    "(y_val == depressed_score).mean()\n"
   ]
  },
  {
   "cell_type": "markdown",
   "id": "87840363-8ac6-4652-88d1-4fe3a51224fe",
   "metadata": {},
   "source": [
    "## Finding the best threshold"
   ]
  },
  {
   "cell_type": "code",
   "execution_count": 19,
   "id": "57d4046b-c56d-4a05-a8d5-59d33a15a2aa",
   "metadata": {},
   "outputs": [
    {
     "name": "stdout",
     "output_type": "stream",
     "text": [
      "0.00 0.5041\n",
      "0.05 0.7603\n",
      "0.10 0.7934\n",
      "0.15 0.8430\n",
      "0.20 0.8678\n",
      "0.25 0.8926\n",
      "0.30 0.8926\n",
      "0.35 0.9256\n",
      "0.40 0.9174\n",
      "0.45 0.9256\n",
      "0.50 0.9504\n",
      "0.55 0.9587\n",
      "0.60 0.9587\n",
      "0.65 0.9504\n",
      "0.70 0.9339\n",
      "0.75 0.9091\n",
      "0.80 0.8843\n",
      "0.85 0.8595\n",
      "0.90 0.8347\n",
      "0.95 0.7686\n",
      "1.00 0.4959\n",
      "Best threshold for this model is: 0.55 with the score of: 0.9586776859504132\n"
     ]
    }
   ],
   "source": [
    "thresholds = np.linspace(0, 1, 21)\n",
    "scores = []\n",
    "best_threshold = 0\n",
    "curr_score = 0\n",
    "\n",
    "for t in thresholds:\n",
    "    score = accuracy_score(y_val, y_pred >= t)\n",
    "    scores.append(score)\n",
    "    print(f'{t:.2f} {score:.4f}')\n",
    "\n",
    "    if score > curr_score:\n",
    "        best_threshold = t\n",
    "        curr_score = score\n",
    "\n",
    "print(f\"Best threshold for this model is: {best_threshold} with the score of: {curr_score}\")\n",
    "    "
   ]
  },
  {
   "cell_type": "markdown",
   "id": "dc145dae-d68f-43f2-981b-5d0908472659",
   "metadata": {},
   "source": [
    "## Checking ROC Scores, Precision and Recall"
   ]
  },
  {
   "cell_type": "code",
   "execution_count": 20,
   "id": "ccb8a32e-f2fb-47e2-9874-cc4ab1109d7f",
   "metadata": {},
   "outputs": [],
   "source": [
    "fpr, tpr, thresholds = roc_curve(y_val, y_pred)"
   ]
  },
  {
   "cell_type": "code",
   "execution_count": 21,
   "id": "fa37e005-a072-44e9-ace4-5d2259e16b1f",
   "metadata": {},
   "outputs": [
    {
     "data": {
      "text/plain": [
       "<matplotlib.legend.Legend at 0x1d5880b3750>"
      ]
     },
     "execution_count": 21,
     "metadata": {},
     "output_type": "execute_result"
    },
    {
     "data": {
      "image/png": "[encoded data removed]",
      "text/plain": [
       "<Figure size 640x480 with 1 Axes>"
      ]
     },
     "metadata": {},
     "output_type": "display_data"
    }
   ],
   "source": [
    "plt.plot(fpr, tpr, label='model')\n",
    "plt.xlabel('FPR')\n",
    "plt.ylabel('TPR')\n",
    "plt.legend()"
   ]
  },
  {
   "cell_type": "code",
   "execution_count": 22,
   "id": "068029cf-70e2-4394-a3f0-de2ce84a9915",
   "metadata": {},
   "outputs": [],
   "source": [
    "y_pred_binary = (y_pred >= 0.5).astype(int) "
   ]
  },
  {
   "cell_type": "code",
   "execution_count": 23,
   "id": "2c925d4e-425a-4cb6-bc10-0b2dd688bd17",
   "metadata": {},
   "outputs": [
    {
     "name": "stdout",
     "output_type": "stream",
     "text": [
      "Precision: 0.9230769230769231\n",
      "Recall: 0.9836065573770492\n",
      "AUC: 0.950136612021858\n"
     ]
    }
   ],
   "source": [
    "print(f\"Precision: {precision_score(y_val, y_pred_binary)}\")\n",
    "print(f\"Recall: {recall_score(y_val, y_pred_binary)}\")\n",
    "print(f\"AUC: {roc_auc_score(y_val, y_pred_binary)}\")"
   ]
  },
  {
   "cell_type": "markdown",
   "id": "7b6bb768-f298-4f93-a84d-aa0043a454c5",
   "metadata": {},
   "source": [
    "Checking for potential data leakage using correlation"
   ]
  },
  {
   "cell_type": "code",
   "execution_count": 24,
   "id": "61b8bd94-b7e0-4c0e-8a28-5f2e37cc08b1",
   "metadata": {},
   "outputs": [
    {
     "name": "stdout",
     "output_type": "stream",
     "text": [
      "age                                -0.209587\n",
      "academic_pressure                   0.466187\n",
      "study_satisfaction                 -0.300314\n",
      "suicidal_thoughts                   0.466569\n",
      "study_hours                         0.198360\n",
      "financial_stress                    0.301493\n",
      "family_history_of_mental_illness    0.042715\n",
      "gender_male                         0.022358\n",
      "sleep_duration_7-8 hours            0.027489\n",
      "sleep_duration_less than 5 hours    0.021618\n",
      "sleep_duration_more than 8 hours   -0.052248\n",
      "dietary_habits_moderate             0.024727\n",
      "dietary_habits_unhealthy            0.172367\n",
      "dtype: float64\n"
     ]
    }
   ],
   "source": [
    "df_train_without_target = df_full_train.drop(columns=['depression'])\n",
    "df_encoded = pd.get_dummies(df_train_without_target, columns=categorical, drop_first=True)\n",
    "correlation_with_target = df_encoded.apply(lambda col: col.corr(df_full_train['depression']))\n",
    "print(correlation_with_target)"
   ]
  },
  {
   "cell_type": "markdown",
   "id": "48445831-0a3c-4229-adc1-b7bbca2e4115",
   "metadata": {},
   "source": [
    "## K-Fold Validation\n",
    "\n",
    "- Since our dataset is fairly small in size we will use k-fold for cross validation before training our final model\n",
    "- Also finding the best regularization parameter for our model"
   ]
  },
  {
   "cell_type": "code",
   "execution_count": 25,
   "id": "fd49b9b1-afda-4941-b4c8-6e8c6d930260",
   "metadata": {},
   "outputs": [],
   "source": [
    "n_splits = 5\n",
    "kfold = KFold(n_splits=n_splits, shuffle=True, random_state=1)"
   ]
  },
  {
   "cell_type": "code",
   "execution_count": 26,
   "id": "be114d34-416e-4684-8575-724183fde6f9",
   "metadata": {},
   "outputs": [
    {
     "name": "stdout",
     "output_type": "stream",
     "text": [
      "C=0.001 0.838 +- 0.082\n",
      "C=0.01 0.924 +- 0.044\n",
      "C=0.1 0.978 +- 0.014\n",
      "C=0.5 0.993 +- 0.006\n",
      "C=1 0.996 +- 0.004\n",
      "C=5 0.998 +- 0.002\n",
      "C=10 0.999 +- 0.001\n"
     ]
    }
   ],
   "source": [
    "for C in (0.001, 0.01, 0.1, 0.5, 1, 5, 10):\n",
    "    scores = []\n",
    "\n",
    "    kfold = KFold(n_splits=n_splits, shuffle=True, random_state=1)\n",
    "    \n",
    "    for train_idx, val_idx in kfold.split(df_full_train):\n",
    "        df_train = df_full_train.iloc[train_idx]\n",
    "        df_val = df_full_train.iloc[val_idx]\n",
    "    \n",
    "        y_train = df_train.depression.values\n",
    "        y_val = df_val.depression.values\n",
    "    \n",
    "        dv, model = train(df_train, y_train, C=C)\n",
    "        y_pred = predict(df_val, dv, model)\n",
    "    \n",
    "        auc = roc_auc_score(y_val, y_pred)\n",
    "        scores.append(auc)\n",
    "\n",
    "    print('C=%s %.3f +- %.3f' % (C, np.mean(scores), np.std(scores)))"
   ]
  },
  {
   "cell_type": "markdown",
   "id": "2142108b-4884-455c-a4cd-0af4659b5383",
   "metadata": {},
   "source": [
    "## Training the Final model"
   ]
  },
  {
   "cell_type": "code",
   "execution_count": 27,
   "id": "ef498cc7-5948-425d-b1b7-aa5d21eeab71",
   "metadata": {},
   "outputs": [],
   "source": [
    "dv, model = train(df_full_train, df_full_train.depression.values, C=1)\n",
    "y_pred = predict(df_test, dv, model)"
   ]
  },
  {
   "cell_type": "code",
   "execution_count": 28,
   "id": "3554ead4-34c4-457a-be65-1309ff889670",
   "metadata": {},
   "outputs": [],
   "source": [
    "y_pred_binary = (y_pred >= 0.5).astype(int) "
   ]
  },
  {
   "cell_type": "code",
   "execution_count": 29,
   "id": "97529708-4edb-4abe-96b6-aa946a101e3e",
   "metadata": {},
   "outputs": [
    {
     "name": "stdout",
     "output_type": "stream",
     "text": [
      "Precision: 0.9803921568627451\n",
      "Recall: 0.9803921568627451\n",
      "AUC: 0.9801960784313726\n"
     ]
    }
   ],
   "source": [
    "print(f\"Precision: {precision_score(y_test, y_pred_binary)}\")\n",
    "print(f\"Recall: {recall_score(y_test, y_pred_binary)}\")\n",
    "print(f\"AUC: {roc_auc_score(y_test, y_pred_binary)}\")"
   ]
  },
  {
   "cell_type": "code",
   "execution_count": null,
   "id": "4944be45-3ef5-4da6-a700-dca141dda613",
   "metadata": {},
   "outputs": [],
   "source": []
  }
 ],
 "metadata": {
  "kernelspec": {
   "display_name": "Python 3 (ipykernel)",
   "language": "python",
   "name": "python3"
  },
  "language_info": {
   "codemirror_mode": {
    "name": "ipython",
    "version": 3
   },
   "file_extension": ".py",
   "mimetype": "text/x-python",
   "name": "python",
   "nbconvert_exporter": "python",
   "pygments_lexer": "ipython3",
   "version": "3.11.9"
  }
 },
 "nbformat": 4,
 "nbformat_minor": 5
}
