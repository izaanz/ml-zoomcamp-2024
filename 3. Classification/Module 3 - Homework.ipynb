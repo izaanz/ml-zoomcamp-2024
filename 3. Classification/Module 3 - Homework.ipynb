{
 "cells": [
  {
   "cell_type": "code",
   "execution_count": 1,
   "id": "2db1a52a-b80e-4a3b-939d-4ac670e928a7",
   "metadata": {},
   "outputs": [],
   "source": [
    "import pandas as pd\n",
    "import numpy as np"
   ]
  },
  {
   "cell_type": "code",
   "execution_count": 8,
   "id": "0e774853-7803-420e-8b45-dd8cf6db0f61",
   "metadata": {},
   "outputs": [],
   "source": [
    "df = pd.read_csv('bank-full.csv', delimiter=';')"
   ]
  },
  {
   "cell_type": "code",
   "execution_count": 9,
   "id": "8edb43e7-89a4-4f74-b1ed-3ffaa09c90cc",
   "metadata": {},
   "outputs": [
    {
     "data": {
      "text/html": [
       "<div>\n",
       "<style scoped>\n",
       "    .dataframe tbody tr th:only-of-type {\n",
       "        vertical-align: middle;\n",
       "    }\n",
       "\n",
       "    .dataframe tbody tr th {\n",
       "        vertical-align: top;\n",
       "    }\n",
       "\n",
       "    .dataframe thead th {\n",
       "        text-align: right;\n",
       "    }\n",
       "</style>\n",
       "<table border=\"1\" class=\"dataframe\">\n",
       "  <thead>\n",
       "    <tr style=\"text-align: right;\">\n",
       "      <th></th>\n",
       "      <th>age</th>\n",
       "      <th>job</th>\n",
       "      <th>marital</th>\n",
       "      <th>education</th>\n",
       "      <th>default</th>\n",
       "      <th>balance</th>\n",
       "      <th>housing</th>\n",
       "      <th>loan</th>\n",
       "      <th>contact</th>\n",
       "      <th>day</th>\n",
       "      <th>month</th>\n",
       "      <th>duration</th>\n",
       "      <th>campaign</th>\n",
       "      <th>pdays</th>\n",
       "      <th>previous</th>\n",
       "      <th>poutcome</th>\n",
       "      <th>y</th>\n",
       "    </tr>\n",
       "  </thead>\n",
       "  <tbody>\n",
       "    <tr>\n",
       "      <th>0</th>\n",
       "      <td>58</td>\n",
       "      <td>management</td>\n",
       "      <td>married</td>\n",
       "      <td>tertiary</td>\n",
       "      <td>no</td>\n",
       "      <td>2143</td>\n",
       "      <td>yes</td>\n",
       "      <td>no</td>\n",
       "      <td>unknown</td>\n",
       "      <td>5</td>\n",
       "      <td>may</td>\n",
       "      <td>261</td>\n",
       "      <td>1</td>\n",
       "      <td>-1</td>\n",
       "      <td>0</td>\n",
       "      <td>unknown</td>\n",
       "      <td>no</td>\n",
       "    </tr>\n",
       "    <tr>\n",
       "      <th>1</th>\n",
       "      <td>44</td>\n",
       "      <td>technician</td>\n",
       "      <td>single</td>\n",
       "      <td>secondary</td>\n",
       "      <td>no</td>\n",
       "      <td>29</td>\n",
       "      <td>yes</td>\n",
       "      <td>no</td>\n",
       "      <td>unknown</td>\n",
       "      <td>5</td>\n",
       "      <td>may</td>\n",
       "      <td>151</td>\n",
       "      <td>1</td>\n",
       "      <td>-1</td>\n",
       "      <td>0</td>\n",
       "      <td>unknown</td>\n",
       "      <td>no</td>\n",
       "    </tr>\n",
       "    <tr>\n",
       "      <th>2</th>\n",
       "      <td>33</td>\n",
       "      <td>entrepreneur</td>\n",
       "      <td>married</td>\n",
       "      <td>secondary</td>\n",
       "      <td>no</td>\n",
       "      <td>2</td>\n",
       "      <td>yes</td>\n",
       "      <td>yes</td>\n",
       "      <td>unknown</td>\n",
       "      <td>5</td>\n",
       "      <td>may</td>\n",
       "      <td>76</td>\n",
       "      <td>1</td>\n",
       "      <td>-1</td>\n",
       "      <td>0</td>\n",
       "      <td>unknown</td>\n",
       "      <td>no</td>\n",
       "    </tr>\n",
       "    <tr>\n",
       "      <th>3</th>\n",
       "      <td>47</td>\n",
       "      <td>blue-collar</td>\n",
       "      <td>married</td>\n",
       "      <td>unknown</td>\n",
       "      <td>no</td>\n",
       "      <td>1506</td>\n",
       "      <td>yes</td>\n",
       "      <td>no</td>\n",
       "      <td>unknown</td>\n",
       "      <td>5</td>\n",
       "      <td>may</td>\n",
       "      <td>92</td>\n",
       "      <td>1</td>\n",
       "      <td>-1</td>\n",
       "      <td>0</td>\n",
       "      <td>unknown</td>\n",
       "      <td>no</td>\n",
       "    </tr>\n",
       "    <tr>\n",
       "      <th>4</th>\n",
       "      <td>33</td>\n",
       "      <td>unknown</td>\n",
       "      <td>single</td>\n",
       "      <td>unknown</td>\n",
       "      <td>no</td>\n",
       "      <td>1</td>\n",
       "      <td>no</td>\n",
       "      <td>no</td>\n",
       "      <td>unknown</td>\n",
       "      <td>5</td>\n",
       "      <td>may</td>\n",
       "      <td>198</td>\n",
       "      <td>1</td>\n",
       "      <td>-1</td>\n",
       "      <td>0</td>\n",
       "      <td>unknown</td>\n",
       "      <td>no</td>\n",
       "    </tr>\n",
       "  </tbody>\n",
       "</table>\n",
       "</div>"
      ],
      "text/plain": [
       "   age           job  marital  education default  balance housing loan  \\\n",
       "0   58    management  married   tertiary      no     2143     yes   no   \n",
       "1   44    technician   single  secondary      no       29     yes   no   \n",
       "2   33  entrepreneur  married  secondary      no        2     yes  yes   \n",
       "3   47   blue-collar  married    unknown      no     1506     yes   no   \n",
       "4   33       unknown   single    unknown      no        1      no   no   \n",
       "\n",
       "   contact  day month  duration  campaign  pdays  previous poutcome   y  \n",
       "0  unknown    5   may       261         1     -1         0  unknown  no  \n",
       "1  unknown    5   may       151         1     -1         0  unknown  no  \n",
       "2  unknown    5   may        76         1     -1         0  unknown  no  \n",
       "3  unknown    5   may        92         1     -1         0  unknown  no  \n",
       "4  unknown    5   may       198         1     -1         0  unknown  no  "
      ]
     },
     "execution_count": 9,
     "metadata": {},
     "output_type": "execute_result"
    }
   ],
   "source": [
    "df.head()"
   ]
  },
  {
   "cell_type": "code",
   "execution_count": 10,
   "id": "456f12ac-5c33-4400-ae37-17023a703bfb",
   "metadata": {},
   "outputs": [
    {
     "data": {
      "text/plain": [
       "Index(['age', 'job', 'marital', 'education', 'default', 'balance', 'housing',\n",
       "       'loan', 'contact', 'day', 'month', 'duration', 'campaign', 'pdays',\n",
       "       'previous', 'poutcome', 'y'],\n",
       "      dtype='object')"
      ]
     },
     "execution_count": 10,
     "metadata": {},
     "output_type": "execute_result"
    }
   ],
   "source": [
    "df.columns"
   ]
  },
  {
   "cell_type": "code",
   "execution_count": 11,
   "id": "98ece419-4c4b-422b-a3b4-97b1fdea9aef",
   "metadata": {},
   "outputs": [],
   "source": [
    "columns = ['age', 'job', 'marital', 'education', 'balance', 'housing', 'contact', 'day', 'month', 'duration', 'campaign', 'pdays', 'previous', 'poutcome', 'y']\n",
    "df = df[columns]"
   ]
  },
  {
   "cell_type": "code",
   "execution_count": 12,
   "id": "4be164d4-d218-4c8d-bf70-1f738e8ba39b",
   "metadata": {},
   "outputs": [
    {
     "data": {
      "text/plain": [
       "age          0\n",
       "job          0\n",
       "marital      0\n",
       "education    0\n",
       "balance      0\n",
       "housing      0\n",
       "contact      0\n",
       "day          0\n",
       "month        0\n",
       "duration     0\n",
       "campaign     0\n",
       "pdays        0\n",
       "previous     0\n",
       "poutcome     0\n",
       "y            0\n",
       "dtype: int64"
      ]
     },
     "execution_count": 12,
     "metadata": {},
     "output_type": "execute_result"
    }
   ],
   "source": [
    "df.isnull().sum()"
   ]
  },
  {
   "cell_type": "markdown",
   "id": "cf345217-4865-402f-9322-e56008f120ef",
   "metadata": {},
   "source": [
    "## Q1"
   ]
  },
  {
   "cell_type": "code",
   "execution_count": 13,
   "id": "6e78a868-8072-4c39-a0c9-3677a526f3b3",
   "metadata": {},
   "outputs": [
    {
     "data": {
      "text/plain": [
       "'secondary'"
      ]
     },
     "execution_count": 13,
     "metadata": {},
     "output_type": "execute_result"
    }
   ],
   "source": [
    "education_mode = df['education'].mode()[0]\n",
    "education_mode"
   ]
  },
  {
   "cell_type": "markdown",
   "id": "84d8e200-20b0-4fab-b21f-6fbf367c93a9",
   "metadata": {},
   "source": [
    "## Q2"
   ]
  },
  {
   "cell_type": "code",
   "execution_count": 14,
   "id": "5cd5cee5-2383-4087-bf94-933a7d3c863f",
   "metadata": {},
   "outputs": [],
   "source": [
    "numerical_columns = ['age', 'balance', 'day', 'duration', 'campaign', 'pdays', 'previous']\n",
    "numerical_df = df[numerical_columns]"
   ]
  },
  {
   "cell_type": "code",
   "execution_count": 17,
   "id": "60ccf76a-5c5e-467a-9310-0da390175ee0",
   "metadata": {},
   "outputs": [
    {
     "name": "stdout",
     "output_type": "stream",
     "text": [
      "               age   balance       day  duration  campaign     pdays  previous\n",
      "age       1.000000  0.097783 -0.009120 -0.004648  0.004760 -0.023758  0.001288\n",
      "balance   0.097783  1.000000  0.004503  0.021560 -0.014578  0.003435  0.016674\n",
      "day      -0.009120  0.004503  1.000000 -0.030206  0.162490 -0.093044 -0.051710\n",
      "duration -0.004648  0.021560 -0.030206  1.000000 -0.084570 -0.001565  0.001203\n",
      "campaign  0.004760 -0.014578  0.162490 -0.084570  1.000000 -0.088628 -0.032855\n",
      "pdays    -0.023758  0.003435 -0.093044 -0.001565 -0.088628  1.000000  0.454820\n",
      "previous  0.001288  0.016674 -0.051710  0.001203 -0.032855  0.454820  1.000000\n"
     ]
    }
   ],
   "source": [
    "correlation_matrix = numerical_df.corr()\n",
    "print(correlation_matrix)"
   ]
  },
  {
   "cell_type": "code",
   "execution_count": 16,
   "id": "61e6bbe7-24de-4cfc-8935-d59d04810135",
   "metadata": {},
   "outputs": [
    {
     "name": "stdout",
     "output_type": "stream",
     "text": [
      "previous  pdays    0.45482\n",
      "dtype: float64\n"
     ]
    }
   ],
   "source": [
    "correlation_unstacked = correlation_matrix.unstack()\n",
    "sorted_correlation = correlation_unstacked.sort_values(ascending=False)\n",
    "sorted_correlation = sorted_correlation[sorted_correlation < 1]\n",
    "biggest_correlation = sorted_correlation.head(1)\n",
    "print(biggest_correlation)"
   ]
  },
  {
   "cell_type": "markdown",
   "id": "53cad3e2-90c5-4a68-8e77-f1ac138daf49",
   "metadata": {},
   "source": [
    "## Q3"
   ]
  },
  {
   "cell_type": "code",
   "execution_count": 18,
   "id": "53cac8d5-cf75-46d2-92f9-ebe5037b29d2",
   "metadata": {},
   "outputs": [
    {
     "name": "stdout",
     "output_type": "stream",
     "text": [
      "     Feature  Mutual Information\n",
      "3   poutcome                0.03\n",
      "0    contact                0.01\n",
      "2    housing                0.01\n",
      "1  education                0.00\n"
     ]
    }
   ],
   "source": [
    "import pandas as pd\n",
    "from sklearn.model_selection import train_test_split\n",
    "from sklearn.preprocessing import LabelEncoder\n",
    "from sklearn.feature_selection import mutual_info_classif\n",
    "\n",
    "\n",
    "df['y'] = df['y'].map({'yes': 1, 'no': 0})\n",
    "\n",
    "# Split the data into train, validation, and test sets (60/20/20) using random seed 42\n",
    "df_train, df_temp = train_test_split(df, test_size=0.4, random_state=42)\n",
    "df_val, df_test = train_test_split(df_temp, test_size=0.5, random_state=42)\n",
    "\n",
    "# Define categorical columns\n",
    "categorical_columns = ['contact', 'education', 'housing', 'poutcome']\n",
    "\n",
    "# Encode categorical variables in the training set\n",
    "le = LabelEncoder()\n",
    "for col in categorical_columns:\n",
    "    df_train[col] = le.fit_transform(df_train[col])\n",
    "\n",
    "# Define X (features) and y (target) for the training set\n",
    "X_train = df_train[categorical_columns]\n",
    "y_train = df_train['y']\n",
    "\n",
    "# Calculate mutual information scores between y and categorical features in the training set\n",
    "mi_scores = mutual_info_classif(X_train, y_train, discrete_features=True)\n",
    "\n",
    "# Create a DataFrame to display feature names and mutual information scores\n",
    "mi_df = pd.DataFrame({'Feature': categorical_columns, 'Mutual Information': mi_scores})\n",
    "\n",
    "# Round the mutual information scores to 2 decimal places\n",
    "mi_df['Mutual Information'] = mi_df['Mutual Information'].round(2)\n",
    "\n",
    "# Sort the DataFrame by mutual information scores in descending order\n",
    "mi_df = mi_df.sort_values(by='Mutual Information', ascending=False)\n",
    "\n",
    "# Print the feature with the highest mutual information score\n",
    "print(mi_df)"
   ]
  },
  {
   "cell_type": "code",
   "execution_count": 20,
   "id": "c7249412-6eae-4574-aa43-92d966beba08",
   "metadata": {},
   "outputs": [
    {
     "name": "stdout",
     "output_type": "stream",
     "text": [
      "Validation Accuracy: 0.89\n"
     ]
    }
   ],
   "source": [
    "import pandas as pd\n",
    "from sklearn.model_selection import train_test_split\n",
    "from sklearn.preprocessing import OneHotEncoder\n",
    "from sklearn.linear_model import LogisticRegression\n",
    "from sklearn.metrics import accuracy_score\n",
    "from sklearn.compose import ColumnTransformer\n",
    "from sklearn.pipeline import Pipeline\n",
    "\n",
    "\n",
    "# Define features and target for training and validation datasets\n",
    "X_train = df_train.drop('y', axis=1)\n",
    "y_train = df_train['y']\n",
    "X_val = df_val.drop('y', axis=1)\n",
    "y_val = df_val['y']\n",
    "\n",
    "# Create a pipeline for preprocessing and model fitting\n",
    "pipeline = Pipeline(steps=[\n",
    "    ('ohe', OneHotEncoder(handle_unknown='ignore')),  # One-hot encoding\n",
    "    ('log_reg', LogisticRegression(solver='liblinear', C=1.0, max_iter=1000, random_state=42))  # Logistic regression\n",
    "])\n",
    "\n",
    "# Fit the model on the training dataset\n",
    "pipeline.fit(X_train, y_train)\n",
    "\n",
    "# Predict on the validation dataset\n",
    "y_val_pred = pipeline.predict(X_val)\n",
    "\n",
    "# Calculate accuracy on the validation dataset\n",
    "accuracy = accuracy_score(y_val, y_val_pred)\n",
    "\n",
    "# Print the rounded accuracy\n",
    "print(f'Validation Accuracy: {round(accuracy, 2)}')"
   ]
  },
  {
   "cell_type": "code",
   "execution_count": 21,
   "id": "8441130d-d334-419a-b9d5-e9f82733822e",
   "metadata": {},
   "outputs": [
    {
     "name": "stdout",
     "output_type": "stream",
     "text": [
      "Accuracy Differences: {'age': 0.000774165007741745, 'balance': 0.0014377350143773837, 'marital': 0.0013271400132713884, 'previous': 0.0017695200176952586}\n",
      "Least useful feature: age\n"
     ]
    }
   ],
   "source": [
    "# Define features and target for training dataset\n",
    "X_train = df_train.drop('y', axis=1)\n",
    "y_train = df_train['y']\n",
    "\n",
    "# One-hot encode the features\n",
    "ohe = OneHotEncoder(handle_unknown='ignore')\n",
    "X_train_encoded = ohe.fit_transform(X_train)\n",
    "\n",
    "# Train the logistic regression model with all features\n",
    "model = LogisticRegression(solver='liblinear', C=1.0, max_iter=1000, random_state=42)\n",
    "model.fit(X_train_encoded, y_train)\n",
    "\n",
    "# Calculate original accuracy on validation set\n",
    "X_val = df_val.drop('y', axis=1)\n",
    "y_val = df_val['y']\n",
    "X_val_encoded = ohe.transform(X_val)\n",
    "original_accuracy = accuracy_score(y_val, model.predict(X_val_encoded))\n",
    "\n",
    "# Features to evaluate\n",
    "features = ['age', 'balance', 'marital', 'previous']\n",
    "\n",
    "# Dictionary to store accuracy differences\n",
    "accuracy_differences = {}\n",
    "\n",
    "# Evaluate each feature by excluding it\n",
    "for feature in features:\n",
    "    # Drop the feature from training set\n",
    "    X_train_excluded = X_train.drop(feature, axis=1)\n",
    "    X_train_encoded_excluded = ohe.fit_transform(X_train_excluded)\n",
    "    \n",
    "    # Train the model without the excluded feature\n",
    "    model.fit(X_train_encoded_excluded, y_train)\n",
    "    \n",
    "    # Calculate accuracy on validation set\n",
    "    X_val_excluded = X_val.drop(feature, axis=1)\n",
    "    X_val_encoded_excluded = ohe.transform(X_val_excluded)\n",
    "    accuracy_without_feature = accuracy_score(y_val, model.predict(X_val_encoded_excluded))\n",
    "    \n",
    "    # Calculate the difference and store it\n",
    "    accuracy_differences[feature] = original_accuracy - accuracy_without_feature\n",
    "\n",
    "# Identify the feature with the smallest difference\n",
    "least_useful_feature = min(accuracy_differences, key=accuracy_differences.get)\n",
    "\n",
    "# Print the results\n",
    "print(\"Accuracy Differences:\", accuracy_differences)\n",
    "print(\"Least useful feature:\", least_useful_feature)"
   ]
  },
  {
   "cell_type": "code",
   "execution_count": 22,
   "id": "d6ccb984-be17-4e23-9a45-f70f72e0c344",
   "metadata": {},
   "outputs": [
    {
     "name": "stdout",
     "output_type": "stream",
     "text": [
      "Accuracy Results: {0.01: 0.885, 0.1: 0.889, 1: 0.89, 10: 0.886, 100: 0.883}\n",
      "Best C value: 1\n"
     ]
    }
   ],
   "source": [
    "# One-hot encode the features\n",
    "ohe = OneHotEncoder(handle_unknown='ignore')\n",
    "X_train_encoded = ohe.fit_transform(X_train)\n",
    "X_val_encoded = ohe.transform(X_val)\n",
    "\n",
    "# List of C values to try\n",
    "C_values = [0.01, 0.1, 1, 10, 100]\n",
    "\n",
    "# Dictionary to store accuracy for each C value\n",
    "accuracy_results = {}\n",
    "\n",
    "# Train logistic regression for each value of C\n",
    "for C in C_values:\n",
    "    model = LogisticRegression(solver='liblinear', C=C, max_iter=1000, random_state=42)\n",
    "    model.fit(X_train_encoded, y_train)\n",
    "    y_val_pred = model.predict(X_val_encoded)\n",
    "    accuracy = accuracy_score(y_val, y_val_pred)\n",
    "    accuracy_results[C] = round(accuracy, 3)  # Round to 3 decimal digits\n",
    "\n",
    "# Identify the best C value based on accuracy\n",
    "best_C = max(accuracy_results, key=accuracy_results.get)\n",
    "\n",
    "# Print the results\n",
    "print(\"Accuracy Results:\", accuracy_results)\n",
    "print(\"Best C value:\", best_C)"
   ]
  },
  {
   "cell_type": "code",
   "execution_count": null,
   "id": "9990acb6-5c55-4582-b1a7-b9153d190d9e",
   "metadata": {},
   "outputs": [],
   "source": []
  }
 ],
 "metadata": {
  "kernelspec": {
   "display_name": "Python 3 (ipykernel)",
   "language": "python",
   "name": "python3"
  },
  "language_info": {
   "codemirror_mode": {
    "name": "ipython",
    "version": 3
   },
   "file_extension": ".py",
   "mimetype": "text/x-python",
   "name": "python",
   "nbconvert_exporter": "python",
   "pygments_lexer": "ipython3",
   "version": "3.11.9"
  }
 },
 "nbformat": 4,
 "nbformat_minor": 5
}
